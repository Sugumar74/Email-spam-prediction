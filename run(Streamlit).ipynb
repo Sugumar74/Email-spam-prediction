{
 "cells": [
  {
   "cell_type": "markdown",
   "id": "bd9badbd-6bdd-492a-97df-981955f8face",
   "metadata": {},
   "source": [
    "IMPORT NECCESSARY LIBRARIES"
   ]
  },
  {
   "cell_type": "code",
   "execution_count": 1,
   "id": "f4f61c55-a0bd-4096-b10a-6ebaeb56e622",
   "metadata": {},
   "outputs": [],
   "source": [
    "import pandas as pd\n",
    "import numpy as np\n",
    "import matplotlib.pyplot as plt\n",
    "import nltk\n",
    "from nltk.corpus import stopwords\n",
    "from sklearn.model_selection import train_test_split\n",
    "from sklearn.preprocessing import MinMaxScaler\n",
    "from sklearn.naive_bayes import MultinomialNB\n",
    "from sklearn.svm import SVC\n",
    "from sklearn.ensemble import RandomForestClassifier\n",
    "from sklearn.metrics import accuracy_score, confusion_matrix, classification_report\n",
    "import streamlit as st"
   ]
  },
  {
   "cell_type": "markdown",
   "id": "bed34ecd-984f-4e1b-92de-cd540a3cf71f",
   "metadata": {},
   "source": [
    "SET THE PAGE TITLE AND HEADER FOR STREAMLIT"
   ]
  },
  {
   "cell_type": "code",
   "execution_count": 2,
   "id": "4fdbbd78-35a5-4c68-bfa0-58f15936d7ae",
   "metadata": {},
   "outputs": [
    {
     "name": "stderr",
     "output_type": "stream",
     "text": [
      "2023-04-03 16:52:18.238 \n",
      "  \u001b[33m\u001b[1mWarning:\u001b[0m to view this Streamlit app on a browser, run it with the following\n",
      "  command:\n",
      "\n",
      "    streamlit run C:\\Users\\SREENATH\\anaconda3\\envs\\Email_Spam\\lib\\site-packages\\ipykernel_launcher.py [ARGUMENTS]\n"
     ]
    },
    {
     "data": {
      "text/plain": [
       "DeltaGenerator(_root_container=0, _provided_cursor=None, _parent=None, _block_type=None, _form_data=None)"
      ]
     },
     "execution_count": 2,
     "metadata": {},
     "output_type": "execute_result"
    }
   ],
   "source": [
    "st.set_page_config(page_title=\"Email Classifier\", page_icon=\":email:\", layout=\"wide\")\n",
    "st.title(\"Email Classifier\")"
   ]
  },
  {
   "cell_type": "markdown",
   "id": "f793d4d4-6a34-46ac-8c29-7d8bbfca2be3",
   "metadata": {},
   "source": [
    "READ THE DATA FROM CSV FILE STORED IN DIRECTORY"
   ]
  },
  {
   "cell_type": "code",
   "execution_count": 3,
   "id": "41e34b73-66f2-4844-83e0-c2eb00aa983e",
   "metadata": {},
   "outputs": [],
   "source": [
    "df = pd.read_csv(\"emails.csv\")\n",
    "st.write(\"About the Dataset\", df.describe())\n",
    "st.write(\"Shape of the dataset\",df.shape)"
   ]
  },
  {
   "cell_type": "markdown",
   "id": "6cfc52e7-7b12-4706-8d84-197a458156ab",
   "metadata": {},
   "source": [
    "CLEAND AND PREPROCESS THE DATA"
   ]
  },
  {
   "cell_type": "code",
   "execution_count": 4,
   "id": "97e60386-7988-493c-8c4a-19084602da19",
   "metadata": {},
   "outputs": [],
   "source": [
    "df = df.replace(r'[^\\d.]+', value=float('nan'), regex=True)\n",
    "df.fillna(0, inplace=True)\n",
    "df = df.astype(int)"
   ]
  },
  {
   "cell_type": "markdown",
   "id": "473a0fba-c432-4f29-b565-8e9717870004",
   "metadata": {},
   "source": [
    "TARGET VARIABLE VISUALIZATION"
   ]
  },
  {
   "cell_type": "code",
   "execution_count": 5,
   "id": "c38643d9-fb5b-403a-843c-57fe5561d168",
   "metadata": {},
   "outputs": [
    {
     "data": {
      "text/plain": [
       "DeltaGenerator(_root_container=0, _provided_cursor=None, _parent=None, _block_type=None, _form_data=None)"
      ]
     },
     "execution_count": 5,
     "metadata": {},
     "output_type": "execute_result"
    },
    {
     "data": {
      "image/png": "[encoded data removed]",
      "text/plain": [
       "<Figure size 640x480 with 1 Axes>"
      ]
     },
     "metadata": {},
     "output_type": "display_data"
    }
   ],
   "source": [
    "pred = pd.Series(df[\"Prediction\"])\n",
    "value_count = pred.value_counts()\n",
    "a = value_count.index\n",
    "b = value_count.values\n",
    "colors = [\"red\", \"blue\"]\n",
    "plt.bar(a, b, color=colors, width=0.4)\n",
    "plt.xticks(value_count.index, ['0', '1'])\n",
    "plt.xlabel(\"Value\")\n",
    "plt.ylabel(\"Count\")\n",
    "plt.title(\"Prediction count\")\n",
    "st.pyplot(plt)"
   ]
  },
  {
   "cell_type": "markdown",
   "id": "f8dac651-fe88-45e1-894b-68ec5bb5affd",
   "metadata": {},
   "source": [
    "REMOVE STOP WORDS FROM FEATURE SET"
   ]
  },
  {
   "cell_type": "code",
   "execution_count": 6,
   "id": "d7b69176-e0d5-4de7-915e-95381338b145",
   "metadata": {},
   "outputs": [
    {
     "name": "stderr",
     "output_type": "stream",
     "text": [
      "[nltk_data] Downloading package stopwords to\n",
      "[nltk_data]     C:\\Users\\SREENATH\\AppData\\Roaming\\nltk_data...\n",
      "[nltk_data]   Package stopwords is already up-to-date!\n"
     ]
    }
   ],
   "source": [
    "nltk.download('stopwords')\n",
    "stopword = df.columns.isin(stopwords.words('english'))\n",
    "no_stopword = df.loc[:, ~stopword].copy()\n",
    "no_stopword.drop(columns=\"Email No.\", inplace=True)"
   ]
  },
  {
   "cell_type": "markdown",
   "id": "62cafa9a-3e58-4d49-8506-7596b909cb80",
   "metadata": {},
   "source": [
    "SPLIT THE DATA INTO TRAIN SET AND TEST SET,THEN SCALE THE DATA"
   ]
  },
  {
   "cell_type": "code",
   "execution_count": 7,
   "id": "fc39c7c8-0882-4417-9040-602a17277966",
   "metadata": {},
   "outputs": [],
   "source": [
    "x = no_stopword.drop(columns=\"Prediction\")\n",
    "y = no_stopword['Prediction']\n",
    "x_train, x_test, y_train, y_test = train_test_split(x, y, train_size=0.7, random_state=40)\n",
    "scaler = MinMaxScaler(feature_range=(0,1))\n",
    "scaler.fit(x_train)\n",
    "x_train = scaler.fit_transform(x_train)"
   ]
  },
  {
   "cell_type": "markdown",
   "id": "5aec2618-5308-4677-b495-887a60d014cf",
   "metadata": {},
   "source": [
    "MODELS WE ARE USING!"
   ]
  },
  {
   "cell_type": "markdown",
   "id": "bb38ee56-eb67-49d5-aa1e-651821c79a72",
   "metadata": {},
   "source": [
    "MULTINOMIAL NAIVE BAYES (TRAIN THE MODEL AND PREDICT THE TARGET VARIABLE USING TEST DATA)"
   ]
  },
  {
   "cell_type": "code",
   "execution_count": 8,
   "id": "3e2df61b-738e-4fc9-953a-21b71a98c004",
   "metadata": {},
   "outputs": [],
   "source": [
    "nb_cls = MultinomialNB()\n",
    "nb_cls.fit(x_train, y_train)\n",
    "x_test = scaler.transform(x_test)\n",
    "y_pred_nb = nb_cls.predict(x_test)\n",
    "\n",
    "#Accuracy score of the Naive Bayes model\n",
    "accuracy_nb = accuracy_score(y_test, y_pred_nb)\n",
    "st.write(\"Accuracy score of the Naive Bayes model is:\", accuracy_nb)"
   ]
  },
  {
   "cell_type": "markdown",
   "id": "c7aca80d-1c3a-42cc-9246-49a2bac52aee",
   "metadata": {},
   "source": [
    "SUPPORT VECTOR CLASSIFIER (TRAIN THE MODEL AND PREDICT THE TARGET VARIABLE USING TEST DATA)"
   ]
  },
  {
   "cell_type": "code",
   "execution_count": 9,
   "id": "6e4de0a1-39e5-4f7e-ad2f-ba0c179b5cb9",
   "metadata": {},
   "outputs": [
    {
     "name": "stderr",
     "output_type": "stream",
     "text": [
      "C:\\Users\\SREENATH\\anaconda3\\envs\\Email_Spam\\lib\\site-packages\\sklearn\\base.py:439: UserWarning: X does not have valid feature names, but MinMaxScaler was fitted with feature names\n",
      "  warnings.warn(\n"
     ]
    }
   ],
   "source": [
    "svm_cls = SVC(kernel='rbf')\n",
    "svm_cls.fit(x_train, y_train)\n",
    "x_test = scaler.transform(x_test)\n",
    "y_pred_svm = svm_cls.predict(x_test)\n",
    "\n",
    "# Calculate the accuracy score of the SVM model\n",
    "accuracy_svm = accuracy_score(y_test, y_pred_svm)\n",
    "st.write(\"Accuracy score of the SVM model is:\", accuracy_svm)"
   ]
  },
  {
   "cell_type": "markdown",
   "id": "e0e77c1e-171c-4873-a91f-5993c99d21c3",
   "metadata": {},
   "source": [
    "RANDOM FOREST CLASSIFIER(TRAIN THE MODEL AND PREDICT THE TARGET VARIABLE USING TEST DATA)"
   ]
  },
  {
   "cell_type": "code",
   "execution_count": 10,
   "id": "44710e52-acac-408b-b044-1a1a12385276",
   "metadata": {},
   "outputs": [
    {
     "name": "stderr",
     "output_type": "stream",
     "text": [
      "C:\\Users\\SREENATH\\anaconda3\\envs\\Email_Spam\\lib\\site-packages\\sklearn\\base.py:439: UserWarning: X does not have valid feature names, but MinMaxScaler was fitted with feature names\n",
      "  warnings.warn(\n"
     ]
    }
   ],
   "source": [
    "rf_cls = RandomForestClassifier(n_estimators=500, random_state=40)\n",
    "rf_cls.fit(x_train, y_train)\n",
    "x_test = scaler.transform(x_test)\n",
    "y_pred_rf = rf_cls.predict(x_test)\n",
    "\n",
    "# Calculate the accuracy score of the Random Forest model\n",
    "accuracy_rf = accuracy_score(y_test, y_pred_rf)\n",
    "st.write(\"Accuracy score of the Random Forest model is:\", accuracy_rf)"
   ]
  },
  {
   "cell_type": "markdown",
   "id": "9fd0b5c7-15e5-4d7d-a594-0c8360a484ab",
   "metadata": {},
   "source": [
    "CREATING A DATAFRAME WITH THE ACCURACY OF THE MODELS"
   ]
  },
  {
   "cell_type": "code",
   "execution_count": 11,
   "id": "1de50863-4fe3-4bc1-bfb4-f2f28ff9107b",
   "metadata": {},
   "outputs": [
    {
     "data": {
      "text/plain": [
       "DeltaGenerator(_root_container=0, _provided_cursor=None, _parent=None, _block_type=None, _form_data=None)"
      ]
     },
     "execution_count": 11,
     "metadata": {},
     "output_type": "execute_result"
    }
   ],
   "source": [
    "df = pd.DataFrame({\n",
    "    'Model': ['Naive Bayes', 'SVM', 'Random Forest'],\n",
    "    'Accuracy Score': [accuracy_nb, accuracy_svm, accuracy_rf]\n",
    "})\n",
    "\n",
    "\n",
    "# Set the index of the DataFrame to '\n",
    "df.set_index('Model', inplace=True)\n",
    "\n",
    "fig, ax = plt.subplots()\n",
    "ax.bar(df.index, df['Accuracy Score'])\n",
    "ax.set_title(\"Accuracy Scores for Email Classification Models\")\n",
    "ax.set_ylabel(\"Accuracy Score\")\n",
    "st.pyplot(fig)"
   ]
  },
  {
   "cell_type": "markdown",
   "id": "48806df8-f5ea-4e3b-9f81-88c5f0757c81",
   "metadata": {},
   "source": [
    "DISPLAY THE CONFUSION MATRIX AND CLASSIFICATION REPORT FOR MODELS IN STREAMLIT"
   ]
  },
  {
   "cell_type": "code",
   "execution_count": 12,
   "id": "60ec9664-fd0e-4c99-a5e2-5e4d17a0ad2c",
   "metadata": {},
   "outputs": [
    {
     "name": "stderr",
     "output_type": "stream",
     "text": [
      "C:\\Users\\SREENATH\\anaconda3\\envs\\Email_Spam\\lib\\site-packages\\sklearn\\metrics\\_classification.py:1344: UndefinedMetricWarning: Precision and F-score are ill-defined and being set to 0.0 in labels with no predicted samples. Use `zero_division` parameter to control this behavior.\n",
      "  _warn_prf(average, modifier, msg_start, len(result))\n",
      "C:\\Users\\SREENATH\\anaconda3\\envs\\Email_Spam\\lib\\site-packages\\sklearn\\metrics\\_classification.py:1344: UndefinedMetricWarning: Precision and F-score are ill-defined and being set to 0.0 in labels with no predicted samples. Use `zero_division` parameter to control this behavior.\n",
      "  _warn_prf(average, modifier, msg_start, len(result))\n",
      "C:\\Users\\SREENATH\\anaconda3\\envs\\Email_Spam\\lib\\site-packages\\sklearn\\metrics\\_classification.py:1344: UndefinedMetricWarning: Precision and F-score are ill-defined and being set to 0.0 in labels with no predicted samples. Use `zero_division` parameter to control this behavior.\n",
      "  _warn_prf(average, modifier, msg_start, len(result))\n"
     ]
    }
   ],
   "source": [
    "for model, y_pred in [('Naive Bayes', y_pred_nb), ('SVM', y_pred_svm), ('Random Forest', y_pred_rf)]:\n",
    "    st.write(f\"Confusion matrix for the {model} model:\")\n",
    "    st.write(confusion_matrix(y_test, y_pred))\n",
    "\n",
    "    st.write(f\"Classification report for the {model} model:\")\n",
    "    st.write(classification_report(y_test, y_pred))"
   ]
  }
 ],
 "metadata": {
  "kernelspec": {
   "display_name": "Python 3 (ipykernel)",
   "language": "python",
   "name": "python3"
  },
  "language_info": {
   "codemirror_mode": {
    "name": "ipython",
    "version": 3
   },
   "file_extension": ".py",
   "mimetype": "text/x-python",
   "name": "python",
   "nbconvert_exporter": "python",
   "pygments_lexer": "ipython3",
   "version": "3.10.10"
  }
 },
 "nbformat": 4,
 "nbformat_minor": 5
}
